{
 "cells": [
  {
   "cell_type": "markdown",
   "metadata": {
    "colab_type": "text",
    "id": "xXYQlI6ZZlLl"
   },
   "source": [
    "# Cleaning of Accident Data (2013-2017)"
   ]
  },
  {
   "cell_type": "code",
   "execution_count": 90,
   "metadata": {
    "colab": {},
    "colab_type": "code",
    "id": "JJn0DkgjZlLo"
   },
   "outputs": [],
   "source": [
    "import pandas as pd\n",
    "import matplotlib.pyplot as plt\n",
    "%matplotlib inline\n",
    "import numpy as np\n",
    "import seaborn as sns\n",
    "import urllib, os\n",
    "import glob\n",
    "from sklearn.model_selection import train_test_split, GridSearchCV\n",
    "from sklearn.preprocessing import MinMaxScaler, LabelEncoder, StandardScaler\n",
    "from sklearn.ensemble import RandomForestClassifier\n",
    "from sklearn.metrics import accuracy_score, confusion_matrix, auc, roc_curve, classification_report\n",
    "import warnings\n",
    "warnings.filterwarnings(\"ignore\")"
   ]
  },
  {
   "cell_type": "markdown",
   "metadata": {
    "colab_type": "text",
    "id": "WJRllLqhZlL5"
   },
   "source": [
    "# Importing the data"
   ]
  },
  {
   "cell_type": "code",
   "execution_count": 91,
   "metadata": {},
   "outputs": [],
   "source": [
    "accidents_df = pd.concat([pd.read_csv(f) for f in glob.glob('data/Accidents/Accidents*.csv')], ignore_index = True)"
   ]
  },
  {
   "cell_type": "code",
   "execution_count": 92,
   "metadata": {
    "colab": {},
    "colab_type": "code",
    "id": "L0gPGqqSZlMj",
    "outputId": "aeb058d4-6f43-4b19-da20-3cb9c123fb66"
   },
   "outputs": [
    {
     "data": {
      "text/plain": [
       "691641"
      ]
     },
     "execution_count": 92,
     "metadata": {},
     "output_type": "execute_result"
    }
   ],
   "source": [
    "len(accidents_df)"
   ]
  },
  {
   "cell_type": "code",
   "execution_count": 93,
   "metadata": {},
   "outputs": [
    {
     "data": {
      "text/html": [
       "<div>\n",
       "<style scoped>\n",
       "    .dataframe tbody tr th:only-of-type {\n",
       "        vertical-align: middle;\n",
       "    }\n",
       "\n",
       "    .dataframe tbody tr th {\n",
       "        vertical-align: top;\n",
       "    }\n",
       "\n",
       "    .dataframe thead th {\n",
       "        text-align: right;\n",
       "    }\n",
       "</style>\n",
       "<table border=\"1\" class=\"dataframe\">\n",
       "  <thead>\n",
       "    <tr style=\"text-align: right;\">\n",
       "      <th></th>\n",
       "      <th>Accident_Index</th>\n",
       "      <th>Location_Easting_OSGR</th>\n",
       "      <th>Location_Northing_OSGR</th>\n",
       "      <th>Longitude</th>\n",
       "      <th>Latitude</th>\n",
       "      <th>Police_Force</th>\n",
       "      <th>Accident_Severity</th>\n",
       "      <th>Number_of_Vehicles</th>\n",
       "      <th>Number_of_Casualties</th>\n",
       "      <th>Date</th>\n",
       "      <th>...</th>\n",
       "      <th>Pedestrian_Crossing-Human_Control</th>\n",
       "      <th>Pedestrian_Crossing-Physical_Facilities</th>\n",
       "      <th>Light_Conditions</th>\n",
       "      <th>Weather_Conditions</th>\n",
       "      <th>Road_Surface_Conditions</th>\n",
       "      <th>Special_Conditions_at_Site</th>\n",
       "      <th>Carriageway_Hazards</th>\n",
       "      <th>Urban_or_Rural_Area</th>\n",
       "      <th>Did_Police_Officer_Attend_Scene_of_Accident</th>\n",
       "      <th>LSOA_of_Accident_Location</th>\n",
       "    </tr>\n",
       "  </thead>\n",
       "  <tbody>\n",
       "    <tr>\n",
       "      <th>0</th>\n",
       "      <td>201301BS70003</td>\n",
       "      <td>527060.0</td>\n",
       "      <td>177970.0</td>\n",
       "      <td>-0.171402</td>\n",
       "      <td>51.486361</td>\n",
       "      <td>1</td>\n",
       "      <td>2</td>\n",
       "      <td>2</td>\n",
       "      <td>1</td>\n",
       "      <td>02/01/2013</td>\n",
       "      <td>...</td>\n",
       "      <td>0</td>\n",
       "      <td>0</td>\n",
       "      <td>1</td>\n",
       "      <td>1</td>\n",
       "      <td>1</td>\n",
       "      <td>0</td>\n",
       "      <td>0</td>\n",
       "      <td>1</td>\n",
       "      <td>1</td>\n",
       "      <td>E01002844</td>\n",
       "    </tr>\n",
       "    <tr>\n",
       "      <th>1</th>\n",
       "      <td>201301BS70005</td>\n",
       "      <td>526900.0</td>\n",
       "      <td>178940.0</td>\n",
       "      <td>-0.173356</td>\n",
       "      <td>51.495115</td>\n",
       "      <td>1</td>\n",
       "      <td>3</td>\n",
       "      <td>1</td>\n",
       "      <td>2</td>\n",
       "      <td>04/01/2013</td>\n",
       "      <td>...</td>\n",
       "      <td>0</td>\n",
       "      <td>5</td>\n",
       "      <td>1</td>\n",
       "      <td>8</td>\n",
       "      <td>1</td>\n",
       "      <td>0</td>\n",
       "      <td>0</td>\n",
       "      <td>1</td>\n",
       "      <td>1</td>\n",
       "      <td>E01002821</td>\n",
       "    </tr>\n",
       "    <tr>\n",
       "      <th>2</th>\n",
       "      <td>201301BS70006</td>\n",
       "      <td>524240.0</td>\n",
       "      <td>181460.0</td>\n",
       "      <td>-0.210767</td>\n",
       "      <td>51.518353</td>\n",
       "      <td>1</td>\n",
       "      <td>3</td>\n",
       "      <td>1</td>\n",
       "      <td>1</td>\n",
       "      <td>07/01/2013</td>\n",
       "      <td>...</td>\n",
       "      <td>0</td>\n",
       "      <td>1</td>\n",
       "      <td>1</td>\n",
       "      <td>1</td>\n",
       "      <td>1</td>\n",
       "      <td>0</td>\n",
       "      <td>0</td>\n",
       "      <td>1</td>\n",
       "      <td>1</td>\n",
       "      <td>E01002878</td>\n",
       "    </tr>\n",
       "    <tr>\n",
       "      <th>3</th>\n",
       "      <td>201301BS70007</td>\n",
       "      <td>524320.0</td>\n",
       "      <td>181290.0</td>\n",
       "      <td>-0.209675</td>\n",
       "      <td>51.516808</td>\n",
       "      <td>1</td>\n",
       "      <td>3</td>\n",
       "      <td>2</td>\n",
       "      <td>1</td>\n",
       "      <td>10/01/2013</td>\n",
       "      <td>...</td>\n",
       "      <td>0</td>\n",
       "      <td>5</td>\n",
       "      <td>1</td>\n",
       "      <td>1</td>\n",
       "      <td>1</td>\n",
       "      <td>0</td>\n",
       "      <td>0</td>\n",
       "      <td>1</td>\n",
       "      <td>1</td>\n",
       "      <td>E01002831</td>\n",
       "    </tr>\n",
       "    <tr>\n",
       "      <th>4</th>\n",
       "      <td>201301BS70009</td>\n",
       "      <td>525450.0</td>\n",
       "      <td>178660.0</td>\n",
       "      <td>-0.194332</td>\n",
       "      <td>51.492922</td>\n",
       "      <td>1</td>\n",
       "      <td>3</td>\n",
       "      <td>2</td>\n",
       "      <td>1</td>\n",
       "      <td>04/01/2013</td>\n",
       "      <td>...</td>\n",
       "      <td>0</td>\n",
       "      <td>0</td>\n",
       "      <td>4</td>\n",
       "      <td>1</td>\n",
       "      <td>1</td>\n",
       "      <td>0</td>\n",
       "      <td>0</td>\n",
       "      <td>1</td>\n",
       "      <td>1</td>\n",
       "      <td>E01002851</td>\n",
       "    </tr>\n",
       "  </tbody>\n",
       "</table>\n",
       "<p>5 rows × 32 columns</p>\n",
       "</div>"
      ],
      "text/plain": [
       "  Accident_Index  Location_Easting_OSGR  Location_Northing_OSGR  Longitude  \\\n",
       "0  201301BS70003               527060.0                177970.0  -0.171402   \n",
       "1  201301BS70005               526900.0                178940.0  -0.173356   \n",
       "2  201301BS70006               524240.0                181460.0  -0.210767   \n",
       "3  201301BS70007               524320.0                181290.0  -0.209675   \n",
       "4  201301BS70009               525450.0                178660.0  -0.194332   \n",
       "\n",
       "    Latitude  Police_Force  Accident_Severity  Number_of_Vehicles  \\\n",
       "0  51.486361             1                  2                   2   \n",
       "1  51.495115             1                  3                   1   \n",
       "2  51.518353             1                  3                   1   \n",
       "3  51.516808             1                  3                   2   \n",
       "4  51.492922             1                  3                   2   \n",
       "\n",
       "   Number_of_Casualties        Date            ...              \\\n",
       "0                     1  02/01/2013            ...               \n",
       "1                     2  04/01/2013            ...               \n",
       "2                     1  07/01/2013            ...               \n",
       "3                     1  10/01/2013            ...               \n",
       "4                     1  04/01/2013            ...               \n",
       "\n",
       "   Pedestrian_Crossing-Human_Control Pedestrian_Crossing-Physical_Facilities  \\\n",
       "0                                  0                                       0   \n",
       "1                                  0                                       5   \n",
       "2                                  0                                       1   \n",
       "3                                  0                                       5   \n",
       "4                                  0                                       0   \n",
       "\n",
       "   Light_Conditions Weather_Conditions  Road_Surface_Conditions  \\\n",
       "0                 1                  1                        1   \n",
       "1                 1                  8                        1   \n",
       "2                 1                  1                        1   \n",
       "3                 1                  1                        1   \n",
       "4                 4                  1                        1   \n",
       "\n",
       "   Special_Conditions_at_Site  Carriageway_Hazards  Urban_or_Rural_Area  \\\n",
       "0                           0                    0                    1   \n",
       "1                           0                    0                    1   \n",
       "2                           0                    0                    1   \n",
       "3                           0                    0                    1   \n",
       "4                           0                    0                    1   \n",
       "\n",
       "   Did_Police_Officer_Attend_Scene_of_Accident  LSOA_of_Accident_Location  \n",
       "0                                            1                  E01002844  \n",
       "1                                            1                  E01002821  \n",
       "2                                            1                  E01002878  \n",
       "3                                            1                  E01002831  \n",
       "4                                            1                  E01002851  \n",
       "\n",
       "[5 rows x 32 columns]"
      ]
     },
     "execution_count": 93,
     "metadata": {},
     "output_type": "execute_result"
    }
   ],
   "source": [
    "accidents_df.head()"
   ]
  },
  {
   "cell_type": "code",
   "execution_count": 94,
   "metadata": {},
   "outputs": [
    {
     "name": "stdout",
     "output_type": "stream",
     "text": [
      "<class 'pandas.core.frame.DataFrame'>\n",
      "RangeIndex: 691641 entries, 0 to 691640\n",
      "Data columns (total 32 columns):\n",
      "Accident_Index                                 691641 non-null object\n",
      "Location_Easting_OSGR                          691588 non-null float64\n",
      "Location_Northing_OSGR                         691588 non-null float64\n",
      "Longitude                                      691578 non-null float64\n",
      "Latitude                                       691578 non-null float64\n",
      "Police_Force                                   691641 non-null int64\n",
      "Accident_Severity                              691641 non-null int64\n",
      "Number_of_Vehicles                             691641 non-null int64\n",
      "Number_of_Casualties                           691641 non-null int64\n",
      "Date                                           691641 non-null object\n",
      "Day_of_Week                                    691641 non-null int64\n",
      "Time                                           691610 non-null object\n",
      "Local_Authority_(District)                     691641 non-null int64\n",
      "Local_Authority_(Highway)                      691641 non-null object\n",
      "1st_Road_Class                                 691641 non-null int64\n",
      "1st_Road_Number                                691641 non-null int64\n",
      "Road_Type                                      691641 non-null int64\n",
      "Speed_limit                                    691604 non-null float64\n",
      "Junction_Detail                                691641 non-null int64\n",
      "Junction_Control                               691641 non-null int64\n",
      "2nd_Road_Class                                 691641 non-null int64\n",
      "2nd_Road_Number                                691641 non-null int64\n",
      "Pedestrian_Crossing-Human_Control              691641 non-null int64\n",
      "Pedestrian_Crossing-Physical_Facilities        691641 non-null int64\n",
      "Light_Conditions                               691641 non-null int64\n",
      "Weather_Conditions                             691641 non-null int64\n",
      "Road_Surface_Conditions                        691641 non-null int64\n",
      "Special_Conditions_at_Site                     691641 non-null int64\n",
      "Carriageway_Hazards                            691641 non-null int64\n",
      "Urban_or_Rural_Area                            691641 non-null int64\n",
      "Did_Police_Officer_Attend_Scene_of_Accident    691641 non-null int64\n",
      "LSOA_of_Accident_Location                      648221 non-null object\n",
      "dtypes: float64(5), int64(22), object(5)\n",
      "memory usage: 168.9+ MB\n"
     ]
    }
   ],
   "source": [
    "accidents_df.info()"
   ]
  },
  {
   "cell_type": "markdown",
   "metadata": {},
   "source": [
    "# Cleaning"
   ]
  },
  {
   "cell_type": "code",
   "execution_count": 95,
   "metadata": {},
   "outputs": [
    {
     "data": {
      "text/plain": [
       "(691641, 24)"
      ]
     },
     "execution_count": 95,
     "metadata": {},
     "output_type": "execute_result"
    }
   ],
   "source": [
    "# First make initial list of column to drop that won't be useful\n",
    "# Accident Severity should be object\n",
    "# Date to date_time\n",
    "# Day_of_Week to object\n",
    "# Time to date_time\n",
    "# 1st/2nd_Road_Class is object but are numbers\n",
    "# Note Road_Type is object but are numbers\n",
    "# Junction_Detail is float but should be objects\n",
    "# Junction_Control is object but are numbers\n",
    "# Light/Weather/Road_Surface_Conditions/Special_Conditions_at_Site/Carriageway_Hazards are objects but numbers\n",
    "# Urban_or_Rural_Area is int should be strings\n",
    "# Also note nulls are usually marked by -1\n",
    "drop_list = ['Police_Force', 'Local_Authority_(District)', 'Local_Authority_(Highway)', \n",
    "             '1st_Road_Number', '2nd_Road_Number', 'Pedestrian_Crossing-Human_Control', \n",
    "             'Pedestrian_Crossing-Physical_Facilities','Did_Police_Officer_Attend_Scene_of_Accident']\n",
    "accidents_df = accidents_df.drop(labels=drop_list, axis=1)\n",
    "accidents_df.shape"
   ]
  },
  {
   "cell_type": "markdown",
   "metadata": {},
   "source": [
    "## Deal with nulls"
   ]
  },
  {
   "cell_type": "code",
   "execution_count": 96,
   "metadata": {},
   "outputs": [
    {
     "data": {
      "text/plain": [
       "Accident_Index                0.000000\n",
       "Location_Easting_OSGR         0.000077\n",
       "Location_Northing_OSGR        0.000077\n",
       "Longitude                     0.000091\n",
       "Latitude                      0.000091\n",
       "Accident_Severity             0.000000\n",
       "Number_of_Vehicles            0.000000\n",
       "Number_of_Casualties          0.000000\n",
       "Date                          0.000000\n",
       "Day_of_Week                   0.000000\n",
       "Time                          0.000045\n",
       "1st_Road_Class                0.000000\n",
       "Road_Type                     0.000000\n",
       "Speed_limit                   0.000053\n",
       "Junction_Detail               0.000000\n",
       "Junction_Control              0.000000\n",
       "2nd_Road_Class                0.000000\n",
       "Light_Conditions              0.000000\n",
       "Weather_Conditions            0.000000\n",
       "Road_Surface_Conditions       0.000000\n",
       "Special_Conditions_at_Site    0.000000\n",
       "Carriageway_Hazards           0.000000\n",
       "Urban_or_Rural_Area           0.000000\n",
       "LSOA_of_Accident_Location     0.062778\n",
       "dtype: float64"
      ]
     },
     "execution_count": 96,
     "metadata": {},
     "output_type": "execute_result"
    }
   ],
   "source": [
    "accidents_df.isna().sum()/len(accidents_df)"
   ]
  },
  {
   "cell_type": "code",
   "execution_count": 97,
   "metadata": {},
   "outputs": [],
   "source": [
    "# For Speed_limit replace NaNs with median value\n",
    "accidents_df.Speed_limit.fillna(accidents_df.Speed_limit.median(), inplace=True)"
   ]
  },
  {
   "cell_type": "markdown",
   "metadata": {},
   "source": [
    "## Correcting dtypes and labels"
   ]
  },
  {
   "cell_type": "code",
   "execution_count": 98,
   "metadata": {},
   "outputs": [
    {
     "data": {
      "text/plain": [
       "3    0.836837\n",
       "2    0.151230\n",
       "1    0.011932\n",
       "Name: Accident_Severity, dtype: float64"
      ]
     },
     "execution_count": 98,
     "metadata": {},
     "output_type": "execute_result"
    }
   ],
   "source": [
    "accidents_df.Accident_Severity.value_counts(normalize=True)"
   ]
  },
  {
   "cell_type": "code",
   "execution_count": 99,
   "metadata": {},
   "outputs": [],
   "source": [
    "# Change values to listed meanings\n",
    "accidents_df.Accident_Severity = accidents_df.Accident_Severity.replace([1,2,3], ['Fatal', 'Serious', 'Slight'])"
   ]
  },
  {
   "cell_type": "code",
   "execution_count": 100,
   "metadata": {
    "scrolled": true
   },
   "outputs": [],
   "source": [
    "# Change Date to datetime\n",
    "accidents_df['Date'] = pd.to_datetime(accidents_df['Date'], format='%d/%m/%Y')"
   ]
  },
  {
   "cell_type": "code",
   "execution_count": 101,
   "metadata": {},
   "outputs": [],
   "source": [
    "# Take just hour from Time string and convert to datetime\n",
    "# Can possibly label the times into groups later\n",
    "accidents_df['Hour'] = pd.to_datetime(accidents_df['Time'], format='%H:%M').dt.hour"
   ]
  },
  {
   "cell_type": "code",
   "execution_count": 102,
   "metadata": {},
   "outputs": [],
   "source": [
    "accidents_df = accidents_df.drop('Time', axis=1)"
   ]
  },
  {
   "cell_type": "code",
   "execution_count": 103,
   "metadata": {},
   "outputs": [],
   "source": [
    "accidents_df.Hour.fillna(accidents_df.Hour.median(), inplace=True)"
   ]
  },
  {
   "cell_type": "code",
   "execution_count": 104,
   "metadata": {},
   "outputs": [],
   "source": [
    "accidents_df.Hour = accidents_df.Hour.astype('int')"
   ]
  },
  {
   "cell_type": "code",
   "execution_count": 105,
   "metadata": {},
   "outputs": [],
   "source": [
    "def two_hour_groupings(hour):\n",
    "    '''Creates two hour bins from Hour column'''\n",
    "    if hour >= 0 and hour < 2:\n",
    "        return '12am-2am'\n",
    "    if hour >= 2 and hour < 4:\n",
    "        return '2am-4am'\n",
    "    if hour >= 4 and hour < 6:\n",
    "        return '4am-6am'\n",
    "    if hour >= 6 and hour < 8:\n",
    "        return '6am-8am'\n",
    "    if hour >= 8 and hour < 10:\n",
    "        return '8am-10am'\n",
    "    if hour >= 10 and hour < 12:\n",
    "        return '10am-12pm'\n",
    "    if hour >= 12 and hour < 14:\n",
    "        return '12pm-2pm'\n",
    "    if hour >= 14 and hour < 16:\n",
    "        return '2pm-4pm'\n",
    "    if hour >= 16 and hour < 18:\n",
    "        return '4pm-6pm'\n",
    "    if hour >= 18 and hour < 20:\n",
    "        return '6pm-8pm'\n",
    "    if hour >= 20 and hour < 22:\n",
    "        return '8pm-10pm'\n",
    "    if hour >= 22 and hour < 24:\n",
    "        return '10pm-12am'"
   ]
  },
  {
   "cell_type": "code",
   "execution_count": 106,
   "metadata": {},
   "outputs": [],
   "source": [
    "# apply function (probably drop Hour later before modeling)\n",
    "accidents_df['Two_Hour_Groupings'] = accidents_df['Hour'].apply(two_hour_groupings)"
   ]
  },
  {
   "cell_type": "markdown",
   "metadata": {},
   "source": [
    "I kept the below function for possibly looking at during EDA"
   ]
  },
  {
   "cell_type": "code",
   "execution_count": 107,
   "metadata": {},
   "outputs": [],
   "source": [
    "# Use function to group house into Time_of_Day\n",
    "def Hour_to_groups(hour):\n",
    "    if hour >= 5 and hour < 10:\n",
    "        return 'Morning'\n",
    "    elif hour >= 10 and hour < 15:\n",
    "        return 'Office hours'\n",
    "    elif hour >= 15 and hour < 19:\n",
    "        return 'Rush hour'\n",
    "    elif hour >= 19 and hour < 23:\n",
    "        return 'Evening'\n",
    "    else:\n",
    "        return 'Night'"
   ]
  },
  {
   "cell_type": "code",
   "execution_count": 108,
   "metadata": {},
   "outputs": [],
   "source": [
    "# apply function (probably drop Hour later before modeling)\n",
    "accidents_df['Time_of_Day'] = accidents_df['Hour'].apply(Hour_to_groups)"
   ]
  },
  {
   "cell_type": "code",
   "execution_count": 109,
   "metadata": {},
   "outputs": [
    {
     "data": {
      "text/plain": [
       "6    0.163672\n",
       "5    0.152089\n",
       "3    0.151223\n",
       "4    0.150698\n",
       "2    0.141935\n",
       "7    0.130423\n",
       "1    0.109960\n",
       "Name: Day_of_Week, dtype: float64"
      ]
     },
     "execution_count": 109,
     "metadata": {},
     "output_type": "execute_result"
    }
   ],
   "source": [
    "accidents_df.Day_of_Week.value_counts(normalize=True)"
   ]
  },
  {
   "cell_type": "code",
   "execution_count": 110,
   "metadata": {},
   "outputs": [],
   "source": [
    "# Change Day_of_Week from int to object\n",
    "accidents_df.Day_of_Week = accidents_df.Day_of_Week.replace([1,2,3,4,5,6,7], \n",
    "                                 ['Sunday', 'Monday', 'Tuesday', 'Wednesday', 'Thursday', 'Friday', 'Saturday'])"
   ]
  },
  {
   "cell_type": "code",
   "execution_count": 111,
   "metadata": {},
   "outputs": [
    {
     "data": {
      "text/plain": [
       "3    0.454639\n",
       "6    0.306250\n",
       "4    0.123197\n",
       "5    0.077224\n",
       "1    0.035877\n",
       "2    0.002814\n",
       "Name: 1st_Road_Class, dtype: float64"
      ]
     },
     "execution_count": 111,
     "metadata": {},
     "output_type": "execute_result"
    }
   ],
   "source": [
    "accidents_df['1st_Road_Class'].value_counts(normalize=True)"
   ]
  },
  {
   "cell_type": "code",
   "execution_count": 112,
   "metadata": {},
   "outputs": [
    {
     "data": {
      "text/plain": [
       "A               0.454639\n",
       "Unclassified    0.306250\n",
       "B               0.123197\n",
       "C               0.077224\n",
       "Motorway        0.035877\n",
       "A(M)            0.002814\n",
       "Name: 1st_Road_Class, dtype: float64"
      ]
     },
     "execution_count": 112,
     "metadata": {},
     "output_type": "execute_result"
    }
   ],
   "source": [
    "accidents_df['1st_Road_Class'] = accidents_df['1st_Road_Class'].replace([1,2,3,4,5,6], \n",
    "                                                                        ['Motorway', 'A(M)', 'A', 'B', \n",
    "                                                                         'C', 'Unclassified'])\n",
    "accidents_df['1st_Road_Class'].value_counts(normalize=True)"
   ]
  },
  {
   "cell_type": "code",
   "execution_count": 113,
   "metadata": {},
   "outputs": [
    {
     "data": {
      "text/plain": [
       " 6    0.745468\n",
       " 3    0.146459\n",
       " 1    0.067383\n",
       " 2    0.021767\n",
       " 7    0.010601\n",
       " 9    0.008321\n",
       "-1    0.000001\n",
       "Name: Road_Type, dtype: float64"
      ]
     },
     "execution_count": 113,
     "metadata": {},
     "output_type": "execute_result"
    }
   ],
   "source": [
    "accidents_df.Road_Type.value_counts(normalize=True)"
   ]
  },
  {
   "cell_type": "code",
   "execution_count": 114,
   "metadata": {},
   "outputs": [
    {
     "data": {
      "text/plain": [
       "Single carriageway    0.753790\n",
       "Dual carriageway      0.146459\n",
       "Roundabout            0.067383\n",
       "One way street        0.021767\n",
       "Slip road             0.010601\n",
       "Name: Road_Type, dtype: float64"
      ]
     },
     "execution_count": 114,
     "metadata": {},
     "output_type": "execute_result"
    }
   ],
   "source": [
    "# Change Road_Type to proper labels\n",
    "# Rather than dropping added unknown(9) and missing data(-1) to the mode ('Single carriageway')\n",
    "accidents_df.Road_Type = accidents_df.Road_Type.replace([1,2,3,6,7,9,-1], \n",
    "                               ['Roundabout', 'One way street', 'Dual carriageway', 'Single carriageway', \n",
    "                                'Slip road', 'Single carriageway', 'Single carriageway'])\n",
    "accidents_df.Road_Type.value_counts(normalize=True)"
   ]
  },
  {
   "cell_type": "code",
   "execution_count": 115,
   "metadata": {},
   "outputs": [
    {
     "data": {
      "text/plain": [
       " 0    0.401522\n",
       " 3    0.316150\n",
       " 6    0.097717\n",
       " 1    0.087626\n",
       " 8    0.034965\n",
       " 9    0.025311\n",
       " 5    0.014574\n",
       " 2    0.012800\n",
       " 7    0.008289\n",
       "-1    0.001047\n",
       "Name: Junction_Detail, dtype: float64"
      ]
     },
     "execution_count": 115,
     "metadata": {},
     "output_type": "execute_result"
    }
   ],
   "source": [
    "accidents_df.Junction_Detail.value_counts(normalize=True)"
   ]
  },
  {
   "cell_type": "code",
   "execution_count": 116,
   "metadata": {},
   "outputs": [
    {
     "data": {
      "text/plain": [
       "Not at junction or within 20 meters    0.402569\n",
       "T or staggered junction                0.316150\n",
       "Crossroads                             0.097717\n",
       "Roundabout                             0.087626\n",
       "Private drive or entrance              0.034965\n",
       "Other junction                         0.025311\n",
       "Slip road                              0.014574\n",
       "Mini-roundabout                        0.012800\n",
       "More than 4 arms (not roundabout)      0.008289\n",
       "Name: Junction_Detail, dtype: float64"
      ]
     },
     "execution_count": 116,
     "metadata": {},
     "output_type": "execute_result"
    }
   ],
   "source": [
    "# Change Junction_Detail to proper labels\n",
    "# Rather than dropping added missing data(-1) to the mode (Not at junction or within 20 meters)\n",
    "accidents_df.Junction_Detail = accidents_df.Junction_Detail.replace([0,1,2,3,5,6,7,8,9,-1], \n",
    "                                                                    ['Not at junction or within 20 meters', \n",
    "                                                                     'Roundabout', 'Mini-roundabout', \n",
    "                                                                     'T or staggered junction', 'Slip road', \n",
    "                                                                     'Crossroads', \n",
    "                                                                     'More than 4 arms (not roundabout)', \n",
    "                                                                     'Private drive or entrance', 'Other junction', \n",
    "                                                                     'Not at junction or within 20 meters'])\n",
    "accidents_df.Junction_Detail.value_counts(normalize=True)"
   ]
  },
  {
   "cell_type": "code",
   "execution_count": 117,
   "metadata": {},
   "outputs": [
    {
     "data": {
      "text/plain": [
       " 4    0.482139\n",
       "-1    0.405216\n",
       " 2    0.105125\n",
       " 3    0.005081\n",
       " 1    0.001878\n",
       " 0    0.000561\n",
       "Name: Junction_Control, dtype: float64"
      ]
     },
     "execution_count": 117,
     "metadata": {},
     "output_type": "execute_result"
    }
   ],
   "source": [
    "accidents_df.Junction_Control.value_counts(normalize=True)"
   ]
  },
  {
   "cell_type": "code",
   "execution_count": 118,
   "metadata": {},
   "outputs": [
    {
     "data": {
      "text/plain": [
       "Give way or uncontrolled               0.482139\n",
       "Data missing or out of range           0.405216\n",
       "Auto traffic signal                    0.105125\n",
       "Stop sign                              0.005081\n",
       "Authorised person                      0.001878\n",
       "Not at junction or within 20 metres    0.000561\n",
       "Name: Junction_Control, dtype: float64"
      ]
     },
     "execution_count": 118,
     "metadata": {},
     "output_type": "execute_result"
    }
   ],
   "source": [
    "# Change Junction_Control to proper labels\n",
    "accidents_df.Junction_Control = accidents_df.Junction_Control.replace([0,1,2,3,4,-1], \n",
    "                                                                      ['Not at junction or within 20 metres', \n",
    "                                                                       'Authorised person', 'Auto traffic signal', \n",
    "                                                                       'Stop sign', 'Give way or uncontrolled', \n",
    "                                                                       'Data missing or out of range'])\n",
    "accidents_df.Junction_Control.value_counts(normalize=True)"
   ]
  },
  {
   "cell_type": "code",
   "execution_count": 119,
   "metadata": {},
   "outputs": [],
   "source": [
    "# Drop Junction_Control because majority of the feature data is missing\n",
    "accidents_df = accidents_df.drop('Junction_Control', axis=1)"
   ]
  },
  {
   "cell_type": "code",
   "execution_count": 120,
   "metadata": {},
   "outputs": [
    {
     "data": {
      "text/plain": [
       " 6    0.406821\n",
       "-1    0.406115\n",
       " 3    0.098274\n",
       " 5    0.042593\n",
       " 4    0.039237\n",
       " 1    0.006246\n",
       " 2    0.000714\n",
       "Name: 2nd_Road_Class, dtype: float64"
      ]
     },
     "execution_count": 120,
     "metadata": {},
     "output_type": "execute_result"
    }
   ],
   "source": [
    "accidents_df['2nd_Road_Class'].value_counts(normalize=True)"
   ]
  },
  {
   "cell_type": "code",
   "execution_count": 121,
   "metadata": {},
   "outputs": [
    {
     "data": {
      "text/plain": [
       "Unclassified                           0.406821\n",
       "Not at junction or within 20 meters    0.406115\n",
       "A                                      0.098274\n",
       "C                                      0.042593\n",
       "B                                      0.039237\n",
       "Motorway                               0.006246\n",
       "A(M)                                   0.000714\n",
       "Name: 2nd_Road_Class, dtype: float64"
      ]
     },
     "execution_count": 121,
     "metadata": {},
     "output_type": "execute_result"
    }
   ],
   "source": [
    "# Change 2nd_Road_Class to proper labels\n",
    "accidents_df['2nd_Road_Class'] = accidents_df['2nd_Road_Class'].replace([1,2,3,4,5,6,-1], \n",
    "                                                                        ['Motorway', 'A(M)', 'A', 'B', 'C', \n",
    "                                                                         'Unclassified', \n",
    "                                                                         'Not at junction or within 20 meters'])\n",
    "accidents_df['2nd_Road_Class'].value_counts(normalize=True)"
   ]
  },
  {
   "cell_type": "code",
   "execution_count": 122,
   "metadata": {},
   "outputs": [
    {
     "data": {
      "text/plain": [
       " 1    0.728686\n",
       " 4    0.198545\n",
       " 6    0.051253\n",
       " 7    0.015485\n",
       " 5    0.006010\n",
       "-1    0.000020\n",
       "Name: Light_Conditions, dtype: float64"
      ]
     },
     "execution_count": 122,
     "metadata": {},
     "output_type": "execute_result"
    }
   ],
   "source": [
    "accidents_df.Light_Conditions.value_counts(normalize=True)"
   ]
  },
  {
   "cell_type": "code",
   "execution_count": 123,
   "metadata": {},
   "outputs": [
    {
     "data": {
      "text/plain": [
       "Daylight                       0.728706\n",
       "Darkness - lights lit          0.198545\n",
       "Darkness - no lighting         0.051253\n",
       "Darkness - lighting unknown    0.015485\n",
       "Darkness - lights unlit        0.006010\n",
       "Name: Light_Conditions, dtype: float64"
      ]
     },
     "execution_count": 123,
     "metadata": {},
     "output_type": "execute_result"
    }
   ],
   "source": [
    "# Change Light_Conditions to proper labels\n",
    "# Add missing data(-1) to mode (Daylight)\n",
    "accidents_df.Light_Conditions = accidents_df.Light_Conditions.replace([1,4,5,6,7,-1], \n",
    "                                                      ['Daylight', \n",
    "                                                       'Darkness - lights lit', \n",
    "                                                       'Darkness - lights unlit', \n",
    "                                                       'Darkness - no lighting', \n",
    "                                                       'Darkness - lighting unknown', \n",
    "                                                       'Daylight'])\n",
    "\n",
    "accidents_df.Light_Conditions.value_counts(normalize=True)"
   ]
  },
  {
   "cell_type": "code",
   "execution_count": 124,
   "metadata": {},
   "outputs": [
    {
     "data": {
      "text/plain": [
       " 1    0.812651\n",
       " 2    0.110719\n",
       " 9    0.022883\n",
       " 8    0.016841\n",
       " 5    0.013507\n",
       " 4    0.012032\n",
       " 3    0.005047\n",
       " 7    0.004920\n",
       " 6    0.001378\n",
       "-1    0.000020\n",
       "Name: Weather_Conditions, dtype: float64"
      ]
     },
     "execution_count": 124,
     "metadata": {},
     "output_type": "execute_result"
    }
   ],
   "source": [
    "accidents_df.Weather_Conditions.value_counts(normalize=True)"
   ]
  },
  {
   "cell_type": "code",
   "execution_count": 125,
   "metadata": {},
   "outputs": [
    {
     "data": {
      "text/plain": [
       "Fine no high winds       0.835555\n",
       "Raining no high winds    0.110719\n",
       "Other                    0.016841\n",
       "Raining + high winds     0.013507\n",
       "Fine + high winds        0.012032\n",
       "Snowing no high winds    0.005047\n",
       "Fog or mist              0.004920\n",
       "Snowing + high winds     0.001378\n",
       "Name: Weather_Conditions, dtype: float64"
      ]
     },
     "execution_count": 125,
     "metadata": {},
     "output_type": "execute_result"
    }
   ],
   "source": [
    "# Change Weather_Conditions to proper labels\n",
    "# Add unknown(9) and missing data(-1) to mode (Fine no high winds)\n",
    "accidents_df.Weather_Conditions = accidents_df.Weather_Conditions.replace([1,2,3,4,5,6,7,8,9,-1], \n",
    "                                                                ['Fine no high winds', \n",
    "                                                                 'Raining no high winds', \n",
    "                                                                 'Snowing no high winds', \n",
    "                                                                 'Fine + high winds', \n",
    "                                                                 'Raining + high winds', \n",
    "                                                                 'Snowing + high winds', \n",
    "                                                                 'Fog or mist', 'Other', 'Fine no high winds', \n",
    "                                                                 'Fine no high winds'])\n",
    "accidents_df.Weather_Conditions.value_counts(normalize=True)"
   ]
  },
  {
   "cell_type": "code",
   "execution_count": 126,
   "metadata": {},
   "outputs": [
    {
     "data": {
      "text/plain": [
       " 1    0.711846\n",
       " 2    0.262678\n",
       " 4    0.014380\n",
       "-1    0.005018\n",
       " 3    0.004780\n",
       " 5    0.001297\n",
       "Name: Road_Surface_Conditions, dtype: float64"
      ]
     },
     "execution_count": 126,
     "metadata": {},
     "output_type": "execute_result"
    }
   ],
   "source": [
    "accidents_df.Road_Surface_Conditions.value_counts(normalize=True)"
   ]
  },
  {
   "cell_type": "code",
   "execution_count": 127,
   "metadata": {},
   "outputs": [
    {
     "data": {
      "text/plain": [
       "Dry                     0.716865\n",
       "Wet or damp             0.262678\n",
       "Frost or ice            0.014380\n",
       "Snow                    0.004780\n",
       "Flood over 3cm. deep    0.001297\n",
       "Name: Road_Surface_Conditions, dtype: float64"
      ]
     },
     "execution_count": 127,
     "metadata": {},
     "output_type": "execute_result"
    }
   ],
   "source": [
    "# Change Road_Surface_Conditions to proper labels\n",
    "# Add missing data(-1) to mode (Dry)\n",
    "accidents_df.Road_Surface_Conditions = accidents_df.Road_Surface_Conditions.replace([1,2,3,4,5,-1], \n",
    "                                                                                    ['Dry', \n",
    "                                                                                     'Wet or damp', \n",
    "                                                                                     'Snow', \n",
    "                                                                                     'Frost or ice', \n",
    "                                                                                     'Flood over 3cm. deep', \n",
    "                                                                                     'Dry'])\n",
    "accidents_df.Road_Surface_Conditions.value_counts(normalize=True)"
   ]
  },
  {
   "cell_type": "code",
   "execution_count": 128,
   "metadata": {},
   "outputs": [
    {
     "data": {
      "text/plain": [
       " 0    0.974209\n",
       " 4    0.010630\n",
       "-1    0.004074\n",
       " 7    0.002822\n",
       " 6    0.002568\n",
       " 5    0.002251\n",
       " 1    0.001822\n",
       " 3    0.001229\n",
       " 2    0.000395\n",
       "Name: Special_Conditions_at_Site, dtype: float64"
      ]
     },
     "execution_count": 128,
     "metadata": {},
     "output_type": "execute_result"
    }
   ],
   "source": [
    "accidents_df.Special_Conditions_at_Site.value_counts(normalize=True)"
   ]
  },
  {
   "cell_type": "code",
   "execution_count": 129,
   "metadata": {},
   "outputs": [
    {
     "data": {
      "text/plain": [
       "None                                          0.978284\n",
       "Roadworks                                     0.010630\n",
       "Mud                                           0.002822\n",
       "Oil or diesel                                 0.002568\n",
       "Road surface defective                        0.002251\n",
       "Auto traffic singal - out                     0.001822\n",
       "Road sign or marking defective or obscured    0.001229\n",
       "Auto signal part defective                    0.000395\n",
       "Name: Special_Conditions_at_Site, dtype: float64"
      ]
     },
     "execution_count": 129,
     "metadata": {},
     "output_type": "execute_result"
    }
   ],
   "source": [
    "# Change Special_Conditions_at_Site to proper labels\n",
    "# Add missing data (-1) to mode (None)\n",
    "accidents_df.Special_Conditions_at_Site = \\\n",
    "accidents_df.Special_Conditions_at_Site.replace([0,1,2,3,4,5,6,7,-1],  \n",
    "                                                ['None', 'Auto traffic singal - out', \n",
    "                                                 'Auto signal part defective', \n",
    "                                                 'Road sign or marking defective or obscured', \n",
    "                                                 'Roadworks', 'Road surface defective', \n",
    "                                                 'Oil or diesel', 'Mud', 'None'])\n",
    "\n",
    "accidents_df.Special_Conditions_at_Site.value_counts(normalize=True)"
   ]
  },
  {
   "cell_type": "code",
   "execution_count": 130,
   "metadata": {},
   "outputs": [
    {
     "data": {
      "text/plain": [
       " 0    0.979288\n",
       " 2    0.007258\n",
       " 7    0.004437\n",
       "-1    0.003928\n",
       " 6    0.002380\n",
       " 3    0.001413\n",
       " 1    0.001295\n",
       "Name: Carriageway_Hazards, dtype: float64"
      ]
     },
     "execution_count": 130,
     "metadata": {},
     "output_type": "execute_result"
    }
   ],
   "source": [
    "accidents_df.Carriageway_Hazards.value_counts(normalize=True)"
   ]
  },
  {
   "cell_type": "code",
   "execution_count": 131,
   "metadata": {},
   "outputs": [
    {
     "data": {
      "text/plain": [
       "None                                               0.983217\n",
       "Other object on road                               0.007258\n",
       "Any animal in carriageway (except ridden horse)    0.004437\n",
       "Pedestrian in carriageway - not injured            0.002380\n",
       "Previous accident                                  0.001413\n",
       "Vehicle load on road                               0.001295\n",
       "Name: Carriageway_Hazards, dtype: float64"
      ]
     },
     "execution_count": 131,
     "metadata": {},
     "output_type": "execute_result"
    }
   ],
   "source": [
    "# Change Carriageway_Hazards to proper labels\n",
    "# Add missing data(-1) to mode (None)\n",
    "accidents_df.Carriageway_Hazards = \\\n",
    "accidents_df.Carriageway_Hazards.replace([0,1,2,3,6,7,-1],  \n",
    "                                                ['None', 'Vehicle load on road', \n",
    "                                                 'Other object on road', \n",
    "                                                 'Previous accident',  \n",
    "                                                 'Pedestrian in carriageway - not injured', \n",
    "                                                 'Any animal in carriageway (except ridden horse)', \n",
    "                                                 'None'])\n",
    "\n",
    "accidents_df.Carriageway_Hazards.value_counts(normalize=True)"
   ]
  },
  {
   "cell_type": "code",
   "execution_count": 132,
   "metadata": {},
   "outputs": [
    {
     "data": {
      "text/plain": [
       "1    0.656437\n",
       "2    0.343538\n",
       "3    0.000025\n",
       "Name: Urban_or_Rural_Area, dtype: float64"
      ]
     },
     "execution_count": 132,
     "metadata": {},
     "output_type": "execute_result"
    }
   ],
   "source": [
    "accidents_df.Urban_or_Rural_Area.value_counts(normalize=True)"
   ]
  },
  {
   "cell_type": "code",
   "execution_count": 133,
   "metadata": {},
   "outputs": [
    {
     "data": {
      "text/plain": [
       "Urban    0.656462\n",
       "Rural    0.343538\n",
       "Name: Urban_or_Rural_Area, dtype: float64"
      ]
     },
     "execution_count": 133,
     "metadata": {},
     "output_type": "execute_result"
    }
   ],
   "source": [
    "# Change Urban_or_Rural_Area to proper labels\n",
    "# Add unallocated (3) to mode (Urban)\n",
    "accidents_df.Urban_or_Rural_Area = accidents_df.Urban_or_Rural_Area.replace([1,2,3], ['Urban', 'Rural', 'Urban'])\n",
    "accidents_df.Urban_or_Rural_Area.value_counts(normalize=True)"
   ]
  },
  {
   "cell_type": "code",
   "execution_count": 134,
   "metadata": {},
   "outputs": [],
   "source": [
    "# Rest of the rows with missing values are small enough to drop\n",
    "# Also are from features that wouldn't make sense to impute with another value\n",
    "accidents_df = accidents_df.dropna()"
   ]
  },
  {
   "cell_type": "code",
   "execution_count": 135,
   "metadata": {},
   "outputs": [
    {
     "data": {
      "text/plain": [
       "{dtype('int64'): Index(['Number_of_Vehicles', 'Number_of_Casualties'], dtype='object'),\n",
       " dtype('float64'): Index(['Location_Easting_OSGR', 'Location_Northing_OSGR', 'Longitude',\n",
       "        'Latitude', 'Speed_limit'],\n",
       "       dtype='object'),\n",
       " dtype('<M8[ns]'): Index(['Date'], dtype='object'),\n",
       " dtype('int32'): Index(['Hour'], dtype='object'),\n",
       " dtype('O'): Index(['Accident_Index', 'Accident_Severity', 'Day_of_Week', '1st_Road_Class',\n",
       "        'Road_Type', 'Junction_Detail', '2nd_Road_Class', 'Light_Conditions',\n",
       "        'Weather_Conditions', 'Road_Surface_Conditions',\n",
       "        'Special_Conditions_at_Site', 'Carriageway_Hazards',\n",
       "        'Urban_or_Rural_Area', 'LSOA_of_Accident_Location',\n",
       "        'Two_Hour_Groupings', 'Time_of_Day'],\n",
       "       dtype='object')}"
      ]
     },
     "execution_count": 135,
     "metadata": {},
     "output_type": "execute_result"
    }
   ],
   "source": [
    "accidents_df.columns.groupby(accidents_df.dtypes)"
   ]
  },
  {
   "cell_type": "markdown",
   "metadata": {},
   "source": [
    "## Further Feature Selection "
   ]
  },
  {
   "cell_type": "code",
   "execution_count": 136,
   "metadata": {},
   "outputs": [
    {
     "data": {
      "image/png": "[encoded data removed]",
      "text/plain": [
       "<Figure size 1080x864 with 13 Axes>"
      ]
     },
     "metadata": {
      "needs_background": "light"
     },
     "output_type": "display_data"
    }
   ],
   "source": [
    "fig = plt.figure(figsize=(15,12))\n",
    "ax1 = plt.subplot(441)\n",
    "sns.countplot(accidents_df['Accident_Severity'])\n",
    "ax2 = plt.subplot(442)\n",
    "sns.countplot(accidents_df['Day_of_Week'])\n",
    "ax3 = plt.subplot(443)\n",
    "sns.countplot(accidents_df['1st_Road_Class'])\n",
    "ax4 = plt.subplot(444)\n",
    "sns.countplot(accidents_df['Road_Type'])\n",
    "ax5 = plt.subplot(445)\n",
    "sns.countplot(accidents_df['Junction_Detail'])\n",
    "ax6 = plt.subplot(446)\n",
    "sns.countplot(accidents_df['2nd_Road_Class'])\n",
    "ax7 = plt.subplot(447)\n",
    "sns.countplot(accidents_df['Light_Conditions'])\n",
    "ax8 = plt.subplot(448)\n",
    "sns.countplot(accidents_df['Weather_Conditions'])\n",
    "ax9 = plt.subplot(449)\n",
    "sns.countplot(accidents_df['Road_Surface_Conditions'])\n",
    "ax10 = plt.subplot(4,4,10)\n",
    "sns.countplot(accidents_df['Special_Conditions_at_Site'])\n",
    "ax11 = plt.subplot(4,4,11)\n",
    "sns.countplot(accidents_df['Carriageway_Hazards'])\n",
    "ax12 = plt.subplot(4,4,12)\n",
    "sns.countplot(accidents_df['Urban_or_Rural_Area'])\n",
    "ax13 = plt.subplot(4,4,13)\n",
    "sns.countplot(accidents_df['Time_of_Day'])\n",
    "plt.tight_layout()\n",
    "plt.show()"
   ]
  },
  {
   "cell_type": "markdown",
   "metadata": {},
   "source": [
    "Drop `Special_Conditions_at_Site` and `Carriageway_Hazards` due to one dominant label."
   ]
  },
  {
   "cell_type": "code",
   "execution_count": 137,
   "metadata": {},
   "outputs": [],
   "source": [
    "accidents_df = accidents_df.drop(columns=['Special_Conditions_at_Site', 'Carriageway_Hazards'])"
   ]
  },
  {
   "cell_type": "markdown",
   "metadata": {},
   "source": [
    "Also possibly change `Light_Conditions`, `Weather_Conditions`, and `Road_Surface_Conditions` to binary (might have to drop one since they are possibly collinear to each other)."
   ]
  },
  {
   "cell_type": "code",
   "execution_count": 138,
   "metadata": {},
   "outputs": [
    {
     "data": {
      "text/plain": [
       "Daylight                       0.727956\n",
       "Darkness - lights lit          0.200164\n",
       "Darkness - no lighting         0.049813\n",
       "Darkness - lighting unknown    0.016103\n",
       "Darkness - lights unlit        0.005964\n",
       "Name: Light_Conditions, dtype: float64"
      ]
     },
     "execution_count": 138,
     "metadata": {},
     "output_type": "execute_result"
    }
   ],
   "source": [
    "accidents_df.Light_Conditions.value_counts(normalize=True)"
   ]
  },
  {
   "cell_type": "code",
   "execution_count": 139,
   "metadata": {},
   "outputs": [],
   "source": [
    "def was_daylight(condition):\n",
    "    if condition == 'Daylight':\n",
    "        return 'Yes'\n",
    "    else:\n",
    "        return 'No'"
   ]
  },
  {
   "cell_type": "code",
   "execution_count": 140,
   "metadata": {},
   "outputs": [],
   "source": [
    "accidents_df['Was_Daylight'] = accidents_df['Light_Conditions'].apply(was_daylight)"
   ]
  },
  {
   "cell_type": "code",
   "execution_count": 141,
   "metadata": {},
   "outputs": [
    {
     "data": {
      "text/plain": [
       "Fine no high winds       0.840448\n",
       "Raining no high winds    0.107624\n",
       "Other                    0.016843\n",
       "Raining + high winds     0.012683\n",
       "Fine + high winds        0.011700\n",
       "Fog or mist              0.004983\n",
       "Snowing no high winds    0.004566\n",
       "Snowing + high winds     0.001152\n",
       "Name: Weather_Conditions, dtype: float64"
      ]
     },
     "execution_count": 141,
     "metadata": {},
     "output_type": "execute_result"
    }
   ],
   "source": [
    "accidents_df.Weather_Conditions.value_counts(normalize=True)"
   ]
  },
  {
   "cell_type": "code",
   "execution_count": 142,
   "metadata": {},
   "outputs": [],
   "source": [
    "def was_bad_weather(condition):\n",
    "    if condition == 'Fine no high winds':\n",
    "        return 'No'\n",
    "    else:\n",
    "        return 'Yes'"
   ]
  },
  {
   "cell_type": "code",
   "execution_count": 143,
   "metadata": {},
   "outputs": [],
   "source": [
    "accidents_df['Was_Bad_Weather'] = accidents_df['Weather_Conditions'].apply(was_bad_weather)"
   ]
  },
  {
   "cell_type": "code",
   "execution_count": 144,
   "metadata": {},
   "outputs": [
    {
     "data": {
      "text/plain": [
       "Dry                     0.724585\n",
       "Wet or damp             0.256415\n",
       "Frost or ice            0.013635\n",
       "Snow                    0.004179\n",
       "Flood over 3cm. deep    0.001186\n",
       "Name: Road_Surface_Conditions, dtype: float64"
      ]
     },
     "execution_count": 144,
     "metadata": {},
     "output_type": "execute_result"
    }
   ],
   "source": [
    "accidents_df.Road_Surface_Conditions.value_counts(normalize=True)"
   ]
  },
  {
   "cell_type": "code",
   "execution_count": 145,
   "metadata": {},
   "outputs": [],
   "source": [
    "def was_road_dry(condition):\n",
    "    if condition == 'Dry':\n",
    "        return 'Yes'\n",
    "    else:\n",
    "        return 'No'"
   ]
  },
  {
   "cell_type": "code",
   "execution_count": 146,
   "metadata": {},
   "outputs": [],
   "source": [
    "accidents_df['Was_Road_Dry'] = accidents_df['Road_Surface_Conditions'].apply(was_road_dry)"
   ]
  },
  {
   "cell_type": "code",
   "execution_count": 147,
   "metadata": {},
   "outputs": [
    {
     "data": {
      "text/html": [
       "<div>\n",
       "<style scoped>\n",
       "    .dataframe tbody tr th:only-of-type {\n",
       "        vertical-align: middle;\n",
       "    }\n",
       "\n",
       "    .dataframe tbody tr th {\n",
       "        vertical-align: top;\n",
       "    }\n",
       "\n",
       "    .dataframe thead th {\n",
       "        text-align: right;\n",
       "    }\n",
       "</style>\n",
       "<table border=\"1\" class=\"dataframe\">\n",
       "  <thead>\n",
       "    <tr style=\"text-align: right;\">\n",
       "      <th></th>\n",
       "      <th>count</th>\n",
       "      <th>mean</th>\n",
       "      <th>std</th>\n",
       "      <th>min</th>\n",
       "      <th>25%</th>\n",
       "      <th>50%</th>\n",
       "      <th>75%</th>\n",
       "      <th>max</th>\n",
       "    </tr>\n",
       "  </thead>\n",
       "  <tbody>\n",
       "    <tr>\n",
       "      <th>Location_Easting_OSGR</th>\n",
       "      <td>648208.0</td>\n",
       "      <td>457684.471736</td>\n",
       "      <td>88611.341073</td>\n",
       "      <td>90185.000000</td>\n",
       "      <td>398206.750000</td>\n",
       "      <td>459530.500000</td>\n",
       "      <td>528820.000000</td>\n",
       "      <td>655391.000000</td>\n",
       "    </tr>\n",
       "    <tr>\n",
       "      <th>Location_Northing_OSGR</th>\n",
       "      <td>648208.0</td>\n",
       "      <td>263312.280412</td>\n",
       "      <td>122443.236168</td>\n",
       "      <td>10290.000000</td>\n",
       "      <td>174840.000000</td>\n",
       "      <td>217436.000000</td>\n",
       "      <td>366841.250000</td>\n",
       "      <td>656404.000000</td>\n",
       "    </tr>\n",
       "    <tr>\n",
       "      <th>Longitude</th>\n",
       "      <td>648208.0</td>\n",
       "      <td>-1.164207</td>\n",
       "      <td>1.282775</td>\n",
       "      <td>-6.317417</td>\n",
       "      <td>-2.027918</td>\n",
       "      <td>-1.121212</td>\n",
       "      <td>-0.142525</td>\n",
       "      <td>1.759641</td>\n",
       "    </tr>\n",
       "    <tr>\n",
       "      <th>Latitude</th>\n",
       "      <td>648208.0</td>\n",
       "      <td>52.257879</td>\n",
       "      <td>1.105293</td>\n",
       "      <td>49.912941</td>\n",
       "      <td>51.460000</td>\n",
       "      <td>51.842163</td>\n",
       "      <td>53.193894</td>\n",
       "      <td>55.800956</td>\n",
       "    </tr>\n",
       "    <tr>\n",
       "      <th>Number_of_Vehicles</th>\n",
       "      <td>648208.0</td>\n",
       "      <td>1.843288</td>\n",
       "      <td>0.712747</td>\n",
       "      <td>1.000000</td>\n",
       "      <td>1.000000</td>\n",
       "      <td>2.000000</td>\n",
       "      <td>2.000000</td>\n",
       "      <td>67.000000</td>\n",
       "    </tr>\n",
       "    <tr>\n",
       "      <th>Number_of_Casualties</th>\n",
       "      <td>648208.0</td>\n",
       "      <td>1.327304</td>\n",
       "      <td>0.804570</td>\n",
       "      <td>1.000000</td>\n",
       "      <td>1.000000</td>\n",
       "      <td>1.000000</td>\n",
       "      <td>1.000000</td>\n",
       "      <td>93.000000</td>\n",
       "    </tr>\n",
       "    <tr>\n",
       "      <th>Speed_limit</th>\n",
       "      <td>648208.0</td>\n",
       "      <td>37.858172</td>\n",
       "      <td>13.849555</td>\n",
       "      <td>0.000000</td>\n",
       "      <td>30.000000</td>\n",
       "      <td>30.000000</td>\n",
       "      <td>40.000000</td>\n",
       "      <td>70.000000</td>\n",
       "    </tr>\n",
       "    <tr>\n",
       "      <th>Hour</th>\n",
       "      <td>648208.0</td>\n",
       "      <td>13.549365</td>\n",
       "      <td>5.101049</td>\n",
       "      <td>0.000000</td>\n",
       "      <td>10.000000</td>\n",
       "      <td>14.000000</td>\n",
       "      <td>17.000000</td>\n",
       "      <td>23.000000</td>\n",
       "    </tr>\n",
       "  </tbody>\n",
       "</table>\n",
       "</div>"
      ],
      "text/plain": [
       "                           count           mean            std           min  \\\n",
       "Location_Easting_OSGR   648208.0  457684.471736   88611.341073  90185.000000   \n",
       "Location_Northing_OSGR  648208.0  263312.280412  122443.236168  10290.000000   \n",
       "Longitude               648208.0      -1.164207       1.282775     -6.317417   \n",
       "Latitude                648208.0      52.257879       1.105293     49.912941   \n",
       "Number_of_Vehicles      648208.0       1.843288       0.712747      1.000000   \n",
       "Number_of_Casualties    648208.0       1.327304       0.804570      1.000000   \n",
       "Speed_limit             648208.0      37.858172      13.849555      0.000000   \n",
       "Hour                    648208.0      13.549365       5.101049      0.000000   \n",
       "\n",
       "                                  25%            50%            75%  \\\n",
       "Location_Easting_OSGR   398206.750000  459530.500000  528820.000000   \n",
       "Location_Northing_OSGR  174840.000000  217436.000000  366841.250000   \n",
       "Longitude                   -2.027918      -1.121212      -0.142525   \n",
       "Latitude                    51.460000      51.842163      53.193894   \n",
       "Number_of_Vehicles           1.000000       2.000000       2.000000   \n",
       "Number_of_Casualties         1.000000       1.000000       1.000000   \n",
       "Speed_limit                 30.000000      30.000000      40.000000   \n",
       "Hour                        10.000000      14.000000      17.000000   \n",
       "\n",
       "                                  max  \n",
       "Location_Easting_OSGR   655391.000000  \n",
       "Location_Northing_OSGR  656404.000000  \n",
       "Longitude                    1.759641  \n",
       "Latitude                    55.800956  \n",
       "Number_of_Vehicles          67.000000  \n",
       "Number_of_Casualties        93.000000  \n",
       "Speed_limit                 70.000000  \n",
       "Hour                        23.000000  "
      ]
     },
     "execution_count": 147,
     "metadata": {},
     "output_type": "execute_result"
    }
   ],
   "source": [
    "accidents_df.describe().T"
   ]
  },
  {
   "cell_type": "code",
   "execution_count": 148,
   "metadata": {},
   "outputs": [
    {
     "data": {
      "image/png": "[encoded data removed]",
      "text/plain": [
       "<Figure size 1080x864 with 9 Axes>"
      ]
     },
     "metadata": {
      "needs_background": "light"
     },
     "output_type": "display_data"
    }
   ],
   "source": [
    "accidents_df.hist(figsize=(15,12))\n",
    "plt.tight_layout()\n",
    "plt.show()"
   ]
  },
  {
   "cell_type": "markdown",
   "metadata": {},
   "source": [
    "Looks like need to log transform `Number_of_Vehicles` and `Number_of_Casualties`."
   ]
  },
  {
   "cell_type": "markdown",
   "metadata": {},
   "source": [
    "## Log Transform"
   ]
  },
  {
   "cell_type": "code",
   "execution_count": 149,
   "metadata": {},
   "outputs": [],
   "source": [
    "accidents_df['log_Number_of_Casualties'] = np.log(accidents_df.Number_of_Casualties)\n",
    "accidents_df['log_Number_of_Vehicles'] = np.log(accidents_df.Number_of_Vehicles)"
   ]
  },
  {
   "cell_type": "code",
   "execution_count": 150,
   "metadata": {},
   "outputs": [
    {
     "data": {
      "image/png": "[encoded data removed]",
      "text/plain": [
       "<Figure size 432x288 with 2 Axes>"
      ]
     },
     "metadata": {
      "needs_background": "light"
     },
     "output_type": "display_data"
    }
   ],
   "source": [
    "accidents_df[['log_Number_of_Casualties', 'log_Number_of_Vehicles']].hist()\n",
    "plt.show()"
   ]
  },
  {
   "cell_type": "markdown",
   "metadata": {},
   "source": [
    "## Collinearity"
   ]
  },
  {
   "cell_type": "code",
   "execution_count": 151,
   "metadata": {},
   "outputs": [
    {
     "data": {
      "image/png": "[encoded data removed]",
      "text/plain": [
       "<Figure size 792x648 with 2 Axes>"
      ]
     },
     "metadata": {},
     "output_type": "display_data"
    }
   ],
   "source": [
    "# Set the style of the visualization\n",
    "sns.set(style=\"white\")\n",
    "\n",
    "# Create a covariance matrix\n",
    "corr = accidents_df.corr()\n",
    "\n",
    "# Set up the matplotlib figure\n",
    "f, ax = plt.subplots(figsize=(11,9))\n",
    "\n",
    "# Generate a custom diverging colormap\n",
    "cmap = sns.diverging_palette(220, 10, as_cmap=True)\n",
    "\n",
    "# Draw the heatmap with the mask and correct aspect ratio\n",
    "sns.heatmap(corr, cmap=cmap, center=0,\n",
    "            square=True, linewidths=.5, cbar_kws={\"shrink\": .5}, annot=True);"
   ]
  },
  {
   "cell_type": "markdown",
   "metadata": {},
   "source": [
    "Obivous colliearity with latitude and longitude with northing and easting but will leave those and LSOA for now for adding other datasets later."
   ]
  },
  {
   "cell_type": "code",
   "execution_count": 152,
   "metadata": {
    "scrolled": true
   },
   "outputs": [
    {
     "name": "stdout",
     "output_type": "stream",
     "text": [
      "<class 'pandas.core.frame.DataFrame'>\n",
      "Int64Index: 648208 entries, 0 to 684527\n",
      "Data columns (total 28 columns):\n",
      "Accident_Index               648208 non-null object\n",
      "Location_Easting_OSGR        648208 non-null float64\n",
      "Location_Northing_OSGR       648208 non-null float64\n",
      "Longitude                    648208 non-null float64\n",
      "Latitude                     648208 non-null float64\n",
      "Accident_Severity            648208 non-null object\n",
      "Number_of_Vehicles           648208 non-null int64\n",
      "Number_of_Casualties         648208 non-null int64\n",
      "Date                         648208 non-null datetime64[ns]\n",
      "Day_of_Week                  648208 non-null object\n",
      "1st_Road_Class               648208 non-null object\n",
      "Road_Type                    648208 non-null object\n",
      "Speed_limit                  648208 non-null float64\n",
      "Junction_Detail              648208 non-null object\n",
      "2nd_Road_Class               648208 non-null object\n",
      "Light_Conditions             648208 non-null object\n",
      "Weather_Conditions           648208 non-null object\n",
      "Road_Surface_Conditions      648208 non-null object\n",
      "Urban_or_Rural_Area          648208 non-null object\n",
      "LSOA_of_Accident_Location    648208 non-null object\n",
      "Hour                         648208 non-null int32\n",
      "Two_Hour_Groupings           648208 non-null object\n",
      "Time_of_Day                  648208 non-null object\n",
      "Was_Daylight                 648208 non-null object\n",
      "Was_Bad_Weather              648208 non-null object\n",
      "Was_Road_Dry                 648208 non-null object\n",
      "log_Number_of_Casualties     648208 non-null float64\n",
      "log_Number_of_Vehicles       648208 non-null float64\n",
      "dtypes: datetime64[ns](1), float64(7), int32(1), int64(2), object(17)\n",
      "memory usage: 160.9+ MB\n"
     ]
    }
   ],
   "source": [
    "accidents_df.info()"
   ]
  },
  {
   "cell_type": "code",
   "execution_count": 153,
   "metadata": {},
   "outputs": [],
   "source": [
    "accidents_df.to_csv('data/accidents/Accidents.csv', index=False)"
   ]
  },
  {
   "cell_type": "markdown",
   "metadata": {},
   "source": [
    "### Columns to drop before modeling:\n",
    "- Accident_Index\n",
    "- Location columns (LSOA/Easting/Northing/etc)\n",
    "- Number_of_Vehicles\n",
    "- Number_of_Casualties\n",
    "- 2nd_Road_Class ?\n",
    "- Light_Conditions\n",
    "- Weather_Conditions\n",
    "- Road_Surface_Conditions\n",
    "- Hour ?"
   ]
  },
  {
   "cell_type": "code",
   "execution_count": 71,
   "metadata": {},
   "outputs": [],
   "source": [
    "#final_accidents_df = accidents_df.drop(columns=['Accident_Index', 'Location_Easting_OSGR', 'Location_Northing_OSGR', \n",
    "                                                'Longitude', 'Latitude', 'Number_of_Vehicles', 'Number_of_Casualties', \n",
    "                                                'Light_Conditions', 'Weather_Conditions', 'Road_Surface_Conditions', \n",
    "                                                'Hour'])"
   ]
  },
  {
   "cell_type": "code",
   "execution_count": null,
   "metadata": {},
   "outputs": [],
   "source": []
  },
  {
   "cell_type": "code",
   "execution_count": null,
   "metadata": {},
   "outputs": [],
   "source": []
  },
  {
   "cell_type": "code",
   "execution_count": null,
   "metadata": {},
   "outputs": [],
   "source": []
  },
  {
   "cell_type": "code",
   "execution_count": null,
   "metadata": {},
   "outputs": [],
   "source": []
  },
  {
   "cell_type": "markdown",
   "metadata": {},
   "source": [
    "# Pre EDA"
   ]
  },
  {
   "cell_type": "code",
   "execution_count": 62,
   "metadata": {},
   "outputs": [
    {
     "data": {
      "image/png": "[encoded data removed]",
      "text/plain": [
       "<Figure size 864x576 with 1 Axes>"
      ]
     },
     "metadata": {},
     "output_type": "display_data"
    }
   ],
   "source": [
    "fig, ax = plt.subplots(figsize=(12,8))\n",
    "\n",
    "accidents_df.set_index('Date').resample('M').size().plot(label='Total per Month', color='grey', ax=ax)\n",
    "accidents_df.set_index('Date').resample('M').size().rolling(window=10).mean()\\\n",
    "                    .plot(color='darkorange', linewidth=5, label='10-Months Moving Average', ax=ax)\n",
    "\n",
    "sns.despine(ax=ax, top=True, bottom=False, left=True, right=True)"
   ]
  },
  {
   "cell_type": "code",
   "execution_count": 63,
   "metadata": {},
   "outputs": [
    {
     "data": {
      "text/plain": [
       "2017    122841\n",
       "2016    128270\n",
       "2015    131156\n",
       "2014    137045\n",
       "2013    128896\n",
       "Name: Date, dtype: int64"
      ]
     },
     "execution_count": 63,
     "metadata": {},
     "output_type": "execute_result"
    }
   ],
   "source": [
    "accidents_df['Date'].dt.year.value_counts().sort_index(ascending=False)"
   ]
  },
  {
   "cell_type": "code",
   "execution_count": 64,
   "metadata": {},
   "outputs": [],
   "source": [
    "weekday_counts = pd.DataFrame(accidents_df.set_index('Date').resample('1d')['Accident_Index'].size().reset_index())\n",
    "weekday_counts.columns = ['Date', 'Count']\n",
    "\n",
    "weekday = weekday_counts['Date'].dt.weekday_name"
   ]
  },
  {
   "cell_type": "code",
   "execution_count": 65,
   "metadata": {},
   "outputs": [
    {
     "data": {
      "text/html": [
       "<div>\n",
       "<style scoped>\n",
       "    .dataframe tbody tr th:only-of-type {\n",
       "        vertical-align: middle;\n",
       "    }\n",
       "\n",
       "    .dataframe tbody tr th {\n",
       "        vertical-align: top;\n",
       "    }\n",
       "\n",
       "    .dataframe thead th {\n",
       "        text-align: right;\n",
       "    }\n",
       "</style>\n",
       "<table border=\"1\" class=\"dataframe\">\n",
       "  <thead>\n",
       "    <tr style=\"text-align: right;\">\n",
       "      <th></th>\n",
       "      <th>Average_accidents</th>\n",
       "    </tr>\n",
       "    <tr>\n",
       "      <th>Weekday</th>\n",
       "      <th></th>\n",
       "    </tr>\n",
       "  </thead>\n",
       "  <tbody>\n",
       "    <tr>\n",
       "      <th>Friday</th>\n",
       "      <td>406.042146</td>\n",
       "    </tr>\n",
       "    <tr>\n",
       "      <th>Monday</th>\n",
       "      <td>354.265385</td>\n",
       "    </tr>\n",
       "    <tr>\n",
       "      <th>Saturday</th>\n",
       "      <td>322.954023</td>\n",
       "    </tr>\n",
       "    <tr>\n",
       "      <th>Sunday</th>\n",
       "      <td>272.977011</td>\n",
       "    </tr>\n",
       "    <tr>\n",
       "      <th>Thursday</th>\n",
       "      <td>377.862069</td>\n",
       "    </tr>\n",
       "    <tr>\n",
       "      <th>Tuesday</th>\n",
       "      <td>376.042146</td>\n",
       "    </tr>\n",
       "    <tr>\n",
       "      <th>Wednesday</th>\n",
       "      <td>374.770115</td>\n",
       "    </tr>\n",
       "  </tbody>\n",
       "</table>\n",
       "</div>"
      ],
      "text/plain": [
       "           Average_accidents\n",
       "Weekday                     \n",
       "Friday            406.042146\n",
       "Monday            354.265385\n",
       "Saturday          322.954023\n",
       "Sunday            272.977011\n",
       "Thursday          377.862069\n",
       "Tuesday           376.042146\n",
       "Wednesday         374.770115"
      ]
     },
     "execution_count": 65,
     "metadata": {},
     "output_type": "execute_result"
    }
   ],
   "source": [
    "weekday_averages = weekday_counts.groupby(weekday)['Count'].mean().reset_index()\n",
    "weekday_averages.columns = ['Weekday', 'Average_accidents']\n",
    "weekday_averages.set_index('Weekday', inplace=True)\n",
    "weekday_averages"
   ]
  },
  {
   "cell_type": "code",
   "execution_count": 66,
   "metadata": {},
   "outputs": [
    {
     "data": {
      "text/html": [
       "<div>\n",
       "<style scoped>\n",
       "    .dataframe tbody tr th:only-of-type {\n",
       "        vertical-align: middle;\n",
       "    }\n",
       "\n",
       "    .dataframe tbody tr th {\n",
       "        vertical-align: top;\n",
       "    }\n",
       "\n",
       "    .dataframe thead th {\n",
       "        text-align: right;\n",
       "    }\n",
       "</style>\n",
       "<table border=\"1\" class=\"dataframe\">\n",
       "  <thead>\n",
       "    <tr style=\"text-align: right;\">\n",
       "      <th></th>\n",
       "      <th>Average_accidents</th>\n",
       "    </tr>\n",
       "    <tr>\n",
       "      <th>Weekday</th>\n",
       "      <th></th>\n",
       "    </tr>\n",
       "  </thead>\n",
       "  <tbody>\n",
       "    <tr>\n",
       "      <th>Sunday</th>\n",
       "      <td>272.977011</td>\n",
       "    </tr>\n",
       "    <tr>\n",
       "      <th>Saturday</th>\n",
       "      <td>322.954023</td>\n",
       "    </tr>\n",
       "    <tr>\n",
       "      <th>Friday</th>\n",
       "      <td>406.042146</td>\n",
       "    </tr>\n",
       "    <tr>\n",
       "      <th>Thursday</th>\n",
       "      <td>377.862069</td>\n",
       "    </tr>\n",
       "    <tr>\n",
       "      <th>Wednesday</th>\n",
       "      <td>374.770115</td>\n",
       "    </tr>\n",
       "    <tr>\n",
       "      <th>Tuesday</th>\n",
       "      <td>376.042146</td>\n",
       "    </tr>\n",
       "    <tr>\n",
       "      <th>Monday</th>\n",
       "      <td>354.265385</td>\n",
       "    </tr>\n",
       "  </tbody>\n",
       "</table>\n",
       "</div>"
      ],
      "text/plain": [
       "           Average_accidents\n",
       "Weekday                     \n",
       "Sunday            272.977011\n",
       "Saturday          322.954023\n",
       "Friday            406.042146\n",
       "Thursday          377.862069\n",
       "Wednesday         374.770115\n",
       "Tuesday           376.042146\n",
       "Monday            354.265385"
      ]
     },
     "execution_count": 66,
     "metadata": {},
     "output_type": "execute_result"
    }
   ],
   "source": [
    "days = ['Sunday', 'Saturday', 'Friday', 'Thursday', 'Wednesday', 'Tuesday', 'Monday']\n",
    "weekday_averages.reindex(days)"
   ]
  },
  {
   "cell_type": "code",
   "execution_count": null,
   "metadata": {},
   "outputs": [],
   "source": []
  }
 ],
 "metadata": {
  "colab": {
   "collapsed_sections": [],
   "name": "Traffic_accident_data.ipynb",
   "provenance": [],
   "version": "0.3.2"
  },
  "kernelspec": {
   "display_name": "learn-env",
   "language": "python",
   "name": "learn-env"
  },
  "language_info": {
   "codemirror_mode": {
    "name": "ipython",
    "version": 3
   },
   "file_extension": ".py",
   "mimetype": "text/x-python",
   "name": "python",
   "nbconvert_exporter": "python",
   "pygments_lexer": "ipython3",
   "version": "3.6.6"
  }
 },
 "nbformat": 4,
 "nbformat_minor": 1
}
